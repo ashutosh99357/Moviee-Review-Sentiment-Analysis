{
 "cells": [
  {
   "cell_type": "code",
   "execution_count": 2,
   "metadata": {},
   "outputs": [],
   "source": [
    "from tensorflow.keras.preprocessing.text import one_hot\n"
   ]
  },
  {
   "cell_type": "code",
   "execution_count": 3,
   "metadata": {},
   "outputs": [],
   "source": [
    "### sentences\n",
    "sent={'the glass of milk',\n",
    "      'the glass of juice',\n",
    "      'the cup of tea',\n",
    "      'I am a good boy',\n",
    "      'I am a good developer',\n",
    "      'understand the meaning of words',\n",
    "      'your videos are good',\n",
    "      'your videos are good',\n",
    "}"
   ]
  },
  {
   "cell_type": "code",
   "execution_count": 4,
   "metadata": {},
   "outputs": [
    {
     "data": {
      "text/plain": [
       "{'I am a good boy',\n",
       " 'I am a good developer',\n",
       " 'the cup of tea',\n",
       " 'the glass of juice',\n",
       " 'the glass of milk',\n",
       " 'understand the meaning of words',\n",
       " 'your videos are good'}"
      ]
     },
     "execution_count": 4,
     "metadata": {},
     "output_type": "execute_result"
    }
   ],
   "source": [
    "sent"
   ]
  },
  {
   "cell_type": "code",
   "execution_count": 5,
   "metadata": {},
   "outputs": [],
   "source": [
    "# Define the vocabulary size\n",
    "voc_size=10000"
   ]
  },
  {
   "cell_type": "code",
   "execution_count": 6,
   "metadata": {},
   "outputs": [
    {
     "data": {
      "text/plain": [
       "[[4144, 2469, 1190, 5928],\n",
       " [1686, 1466, 6822, 7217, 6751],\n",
       " [4144, 463, 1190, 6990],\n",
       " [1686, 1466, 6822, 7217, 5827],\n",
       " [4592, 5903, 2665, 7217],\n",
       " [4144, 463, 1190, 9081],\n",
       " [7236, 4144, 2954, 1190, 1618]]"
      ]
     },
     "execution_count": 6,
     "metadata": {},
     "output_type": "execute_result"
    }
   ],
   "source": [
    "### One hot Representation\n",
    "one_hot_repr = [one_hot(words,voc_size)for words in sent]\n",
    "one_hot_repr"
   ]
  },
  {
   "cell_type": "code",
   "execution_count": 7,
   "metadata": {},
   "outputs": [],
   "source": [
    "## word embedding representaion\n",
    "from tensorflow.keras.layers import Embedding\n",
    "from tensorflow.keras.utils import pad_sequences\n",
    "from tensorflow.keras.models import Sequential"
   ]
  },
  {
   "cell_type": "code",
   "execution_count": 8,
   "metadata": {},
   "outputs": [],
   "source": [
    "import numpy  as np"
   ]
  },
  {
   "cell_type": "code",
   "execution_count": 11,
   "metadata": {},
   "outputs": [
    {
     "name": "stdout",
     "output_type": "stream",
     "text": [
      "[[   0    0    0    0 4144 2469 1190 5928]\n",
      " [   0    0    0 1686 1466 6822 7217 6751]\n",
      " [   0    0    0    0 4144  463 1190 6990]\n",
      " [   0    0    0 1686 1466 6822 7217 5827]\n",
      " [   0    0    0    0 4592 5903 2665 7217]\n",
      " [   0    0    0    0 4144  463 1190 9081]\n",
      " [   0    0    0 7236 4144 2954 1190 1618]]\n"
     ]
    }
   ],
   "source": [
    "sent_length=8\n",
    "embedded_docs=pad_sequences(one_hot_repr,padding='pre',maxlen=sent_length)## this line helps in making vetors of the defined length.Here when the sentence of the given length is not satisfied 0 are added in the beginning.\n",
    "print(embedded_docs)"
   ]
  },
  {
   "cell_type": "code",
   "execution_count": 13,
   "metadata": {},
   "outputs": [],
   "source": [
    "# feature representation\n",
    "dim=10"
   ]
  },
  {
   "cell_type": "code",
   "execution_count": 14,
   "metadata": {},
   "outputs": [
    {
     "name": "stdout",
     "output_type": "stream",
     "text": [
      "WARNING:tensorflow:From c:\\new desktop\\Generative Ai\\projects\\venv\\Lib\\site-packages\\keras\\src\\optimizers\\__init__.py:309: The name tf.train.Optimizer is deprecated. Please use tf.compat.v1.train.Optimizer instead.\n",
      "\n"
     ]
    }
   ],
   "source": [
    "model=Sequential()\n",
    "model.add(Embedding(voc_size,dim,input_length=sent_length))\n",
    "model.compile('adam','mse')"
   ]
  },
  {
   "cell_type": "code",
   "execution_count": 15,
   "metadata": {},
   "outputs": [
    {
     "name": "stdout",
     "output_type": "stream",
     "text": [
      "Model: \"sequential_1\"\n",
      "_________________________________________________________________\n",
      " Layer (type)                Output Shape              Param #   \n",
      "=================================================================\n",
      " embedding (Embedding)       (None, 8, 10)             100000    \n",
      "                                                                 \n",
      "=================================================================\n",
      "Total params: 100000 (390.62 KB)\n",
      "Trainable params: 100000 (390.62 KB)\n",
      "Non-trainable params: 0 (0.00 Byte)\n",
      "_________________________________________________________________\n"
     ]
    }
   ],
   "source": [
    "model.summary()"
   ]
  },
  {
   "cell_type": "code",
   "execution_count": 18,
   "metadata": {},
   "outputs": [
    {
     "name": "stdout",
     "output_type": "stream",
     "text": [
      "1/1 [==============================] - 0s 37ms/step\n"
     ]
    },
    {
     "data": {
      "text/plain": [
       "array([[ 0.02531446,  0.02108731,  0.04786279,  0.0204666 , -0.02407427,\n",
       "        -0.02071434, -0.03086921,  0.0147298 ,  0.00323765,  0.02727108],\n",
       "       [ 0.02531446,  0.02108731,  0.04786279,  0.0204666 , -0.02407427,\n",
       "        -0.02071434, -0.03086921,  0.0147298 ,  0.00323765,  0.02727108],\n",
       "       [ 0.02531446,  0.02108731,  0.04786279,  0.0204666 , -0.02407427,\n",
       "        -0.02071434, -0.03086921,  0.0147298 ,  0.00323765,  0.02727108],\n",
       "       [ 0.02531446,  0.02108731,  0.04786279,  0.0204666 , -0.02407427,\n",
       "        -0.02071434, -0.03086921,  0.0147298 ,  0.00323765,  0.02727108],\n",
       "       [-0.03260304, -0.02158073,  0.04410397, -0.04277778,  0.03943965,\n",
       "        -0.03153591,  0.04160123,  0.02429009, -0.03920164,  0.01260045],\n",
       "       [-0.04120589, -0.00587891, -0.02502635, -0.0480573 , -0.01532441,\n",
       "         0.04787153, -0.02503849, -0.01378845,  0.02100564, -0.01805487],\n",
       "       [-0.01635311,  0.03545826,  0.04380747, -0.01786817,  0.01525151,\n",
       "        -0.0008754 ,  0.04752246,  0.04762972,  0.02023656,  0.03728029],\n",
       "       [-0.01622791,  0.04521049,  0.0350291 ,  0.04544394, -0.00777155,\n",
       "        -0.00535022,  0.00514375, -0.00896956,  0.04827401,  0.00483086]],\n",
       "      dtype=float32)"
      ]
     },
     "execution_count": 18,
     "metadata": {},
     "output_type": "execute_result"
    }
   ],
   "source": [
    "model.predict(embedded_docs[0])"
   ]
  },
  {
   "cell_type": "code",
   "execution_count": null,
   "metadata": {},
   "outputs": [],
   "source": []
  },
  {
   "cell_type": "code",
   "execution_count": null,
   "metadata": {},
   "outputs": [],
   "source": []
  }
 ],
 "metadata": {
  "kernelspec": {
   "display_name": "Python 3",
   "language": "python",
   "name": "python3"
  },
  "language_info": {
   "codemirror_mode": {
    "name": "ipython",
    "version": 3
   },
   "file_extension": ".py",
   "mimetype": "text/x-python",
   "name": "python",
   "nbconvert_exporter": "python",
   "pygments_lexer": "ipython3",
   "version": "3.11.0"
  }
 },
 "nbformat": 4,
 "nbformat_minor": 2
}
